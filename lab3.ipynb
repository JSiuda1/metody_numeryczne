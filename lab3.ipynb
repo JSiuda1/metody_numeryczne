{
 "cells": [
  {
   "cell_type": "code",
   "execution_count": 2,
   "metadata": {},
   "outputs": [],
   "source": [
    "import sympy as sp\n",
    "import numpy as np\n",
    "import time\n",
    "import matplotlib.pyplot as plt"
   ]
  },
  {
   "cell_type": "markdown",
   "metadata": {},
   "source": [
    "#### Zad 1"
   ]
  },
  {
   "cell_type": "code",
   "execution_count": 3,
   "metadata": {},
   "outputs": [],
   "source": [
    "def find_root(polynominal: str, symbol_str: str, init_val: float, Nmax: int):\n",
    "    if 'x' not in polynominal:\n",
    "        raise RuntimeError(\"Polinominal must have x parameter\")\n",
    "\n",
    "    symbol = sp.Symbol(symbol_str)\n",
    "    derivative = str(sp.diff(polynominal, symbol))\n",
    "\n",
    "    x = init_val\n",
    "    for _ in range(Nmax):\n",
    "        f_x = eval(polynominal, {'x': x})\n",
    "        f_prim_x = eval(derivative, {'x': x})\n",
    "        x_n = x - (f_x / f_prim_x)\n",
    "        approx_error = abs(f_x / f_prim_x)\n",
    "        x = x_n\n",
    "\n",
    "    f_x = eval(polynominal, {'x': x})\n",
    "    return x, approx_error, f_x"
   ]
  },
  {
   "cell_type": "code",
   "execution_count": 4,
   "metadata": {},
   "outputs": [
    {
     "data": {
      "text/plain": [
       "(2.5742206641631363e-06, 0.0022690191614303896, 5.1484479549383005e-06)"
      ]
     },
     "execution_count": 4,
     "metadata": {},
     "output_type": "execute_result"
    }
   ],
   "source": [
    "find_root(\"x**2 + 2*x \", \"x\", 150, 10)"
   ]
  },
  {
   "cell_type": "markdown",
   "metadata": {},
   "source": [
    "#### Zad 2"
   ]
  },
  {
   "cell_type": "code",
   "execution_count": 5,
   "metadata": {},
   "outputs": [],
   "source": [
    "def jednosegmentowa(x: np.array, y: np.array) -> float:\n",
    "    # y_c = np.median(y)\n",
    "    idx_middle = x.size // 2\n",
    "    return y[idx_middle] * (x[-1] - x[0])   # C = f(middle) * (b - a)"
   ]
  },
  {
   "cell_type": "code",
   "execution_count": 6,
   "metadata": {},
   "outputs": [],
   "source": [
    "def wielosegmentowa(x: np.array, y: np.array) -> float:\n",
    "    integral_sum = 0\n",
    "    for i in range(x.size - 1):\n",
    "        interval_mean = y[i]\n",
    "        interval_size = x[i + 1] - x[i]\n",
    "        integral_sum += interval_mean / interval_size\n",
    "\n",
    "    return integral_sum"
   ]
  },
  {
   "cell_type": "code",
   "execution_count": 7,
   "metadata": {},
   "outputs": [
    {
     "name": "stdout",
     "output_type": "stream",
     "text": [
      "====================\n",
      "N = 10\n",
      "Metoda jednosegmentowa: 5.71\n",
      "Metoda wielosegmentowa: 5.18\n",
      "Metoda trapezów         5.29\n",
      "====================\n",
      "N = 100\n",
      "Metoda jednosegmentowa: 35.44\n",
      "Metoda wielosegmentowa: 48.50\n",
      "Metoda trapezów         48.08\n",
      "====================\n",
      "N = 1000\n",
      "Metoda jednosegmentowa: 897.51\n",
      "Metoda wielosegmentowa: 497.48\n",
      "Metoda trapezów         497.79\n"
     ]
    }
   ],
   "source": [
    "for i in [10, 100, 1000]:\n",
    "    y = np.random.rand(i)\n",
    "    x = np.arange(y.size)\n",
    "\n",
    "    j_segm = jednosegmentowa(x, y)\n",
    "    w_segm = wielosegmentowa(x, y)\n",
    "    trapz = np.trapz(y, x)\n",
    "\n",
    "    print(\"=\" * 20)\n",
    "    print(\n",
    "        f\"N = {i}\\n\"\n",
    "        f\"Metoda jednosegmentowa: {j_segm:.2f}\\n\"\n",
    "        f\"Metoda wielosegmentowa: {w_segm:.2f}\\n\"\n",
    "        f\"Metoda trapezów         {trapz:.2f}\"\n",
    "    )"
   ]
  },
  {
   "cell_type": "markdown",
   "metadata": {},
   "source": [
    "#### Zad 3"
   ]
  },
  {
   "cell_type": "code",
   "execution_count": 12,
   "metadata": {},
   "outputs": [],
   "source": [
    "T = 20\n",
    "Tk = 100\n",
    "dt = 0.5\n",
    "K = (0.97, 0.01, 0.02)   # p, i, d\n",
    "coeff = 1.0\n",
    "\n",
    "def zbiornik(temp, power):\n",
    "    if power > 0:\n",
    "        temp += power * dt\n",
    "    temp -= coeff*(dt + np.random.rand())\n",
    "    return temp\n",
    "\n",
    "def pid(Ti, Tk):\n",
    "    P = K[0] * (Tk - Ti)\n",
    "    if len(y) >= 2:\n",
    "        I = K[1] * sum([0.5*((Tk - y[i]) + (Tk - y[i + 1])) * dt for i in range(0, len(y) - 2)])\n",
    "        D = K[2] * ((Tk - y[-1]) - (Tk - y[-2])) / dt\n",
    "    else:\n",
    "        I, D = 0, 0\n",
    "\n",
    "    return P + I + D\n",
    "\n",
    "# x, y, moc = [0], [T], [0]\n",
    "# ti = time.time()\n",
    "# tl = ti\n",
    "# while time.time() - ti < 20:\n",
    "#     t = time.time()\n",
    "#     if (t - tl) > dt:\n",
    "#         moc.append(pid(T, Tk))\n",
    "#         T = zbiornik(T, moc[-1])\n",
    "#         x += [t - ti]\n",
    "#         y += [T]\n",
    "#         tl = t\n",
    "\n",
    "# plt.plot(x, y)\n",
    "# plt.plot(x, moc)\n",
    "# plt.axhline(Tk)\n",
    "# plt.title(f\"Tk [C] = {y[-1]:.2f}\")\n",
    "\n",
    "x, y, moc = [0], [T], [0]\n",
    "\n",
    "for i in np.arange(dt, 20, dt):\n",
    "    moc.append(pid(T, Tk))\n",
    "    T = zbiornik(T, moc[-1])\n",
    "    x += [i]\n",
    "    y += [T]\n",
    "\n",
    "# fig, ax = plt.subplots(1, 2)\n",
    "# fig.set_size_inches(12, 5)\n",
    "# fig.subplots_adjust(wspace=0.2)\n",
    "# ax[0].plot(x, y)\n",
    "# ax[0].axhline(Tk, color=\"green\", linestyle=\"--\")\n",
    "# ax[0].set_title(f\"Tk [C] = {y[-1]:.2f}\")\n",
    "# ax[0].set_xlabel(\"Czas [s]\")\n",
    "# ax[0].set_ylabel(\"Temperatura [degC]\")\n",
    "# ax[0].grid(True)\n",
    "\n",
    "# ax[1].plot(x, moc)\n",
    "# ax[1].set_title(\"Moc w czasie\")\n",
    "# ax[1].set_xlabel(\"Czas [s]\")\n",
    "# ax[1].set_ylabel(\"Moc [W]\")\n",
    "# ax[1].grid(True)"
   ]
  }
 ],
 "metadata": {
  "kernelspec": {
   "display_name": ".venv",
   "language": "python",
   "name": "python3"
  },
  "language_info": {
   "codemirror_mode": {
    "name": "ipython",
    "version": 3
   },
   "file_extension": ".py",
   "mimetype": "text/x-python",
   "name": "python",
   "nbconvert_exporter": "python",
   "pygments_lexer": "ipython3",
   "version": "3.11.2"
  }
 },
 "nbformat": 4,
 "nbformat_minor": 2
}
